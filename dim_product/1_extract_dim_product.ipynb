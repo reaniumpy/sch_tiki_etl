{
 "cells": [
  {
   "cell_type": "code",
   "execution_count": 1,
   "metadata": {},
   "outputs": [
    {
     "name": "stdout",
     "output_type": "stream",
     "text": [
      "    tiki_pid            sku  \\\n",
      "0  184476147  2833967241350   \n",
      "1  270851667  8398718337298   \n",
      "\n",
      "                                                name  \\\n",
      "0  Bộ đôi Sữa rửa mặt tạo bọt Collagen cho da Khô...   \n",
      "1  Mặt nạ giấy dưỡng da Hàn Quốc innisfree My Rea...   \n",
      "\n",
      "                                             url_key  \\\n",
      "0  bo-doi-sua-rua-mat-tao-bot-collagen-cho-da-kho...   \n",
      "1  mat-na-giay-duong-da-han-quoc-innisfree-my-rea...   \n",
      "\n",
      "                                            url_path   price  discount  \\\n",
      "0  bo-doi-sua-rua-mat-tao-bot-collagen-cho-da-kho...  173000     65000   \n",
      "1  mat-na-giay-duong-da-han-quoc-innisfree-my-rea...   23000      4000   \n",
      "\n",
      "   discount_rate  rating_average  review_count  ... category_l3_name  \\\n",
      "0             27             5.0             2  ...             None   \n",
      "1             15             5.0            20  ...             None   \n",
      "\n",
      "      seller_type  is_imported  video_url  layout_type  fastest_delivery_time  \\\n",
      "0  OFFICIAL_STORE         True        NaN          NaN                    NaN   \n",
      "1  OFFICIAL_STORE         True        NaN          NaN                    NaN   \n",
      "\n",
      "  earliest_delivery_estimate order_route  ingestion_dt_unix ingestion_date  \n",
      "0                        NaN         NaN         1711862074     2024-03-31  \n",
      "1                        NaN         NaN         1711862074     2024-03-31  \n",
      "\n",
      "[2 rows x 49 columns]\n"
     ]
    }
   ],
   "source": [
    "import httpx\n",
    "import pandas as pd\n",
    "from datetime import datetime\n",
    "\n",
    "def remove_keys_recursive(d, keys_to_remove):\n",
    "    if isinstance(d, dict):\n",
    "        return {\n",
    "            key: remove_keys_recursive(value, keys_to_remove)\n",
    "            for key, value in d.items()\n",
    "            if key not in keys_to_remove\n",
    "        }\n",
    "    elif isinstance(d, list):\n",
    "        return [remove_keys_recursive(item, keys_to_remove) for item in d]\n",
    "    else:\n",
    "        return d\n",
    "\n",
    "def rename_quantity_sold(product):\n",
    "    if \"quantity_sold\" in product:\n",
    "        quantity_sold = product.pop(\"quantity_sold\")\n",
    "        product[\"quantity_sold_value\"] = quantity_sold[\"value\"]\n",
    "    return product\n",
    "\n",
    "def make_api_request(url, params, headers):\n",
    "    with httpx.Client() as client:\n",
    "        response = client.get(url, params=params, headers=headers)\n",
    "    return response\n",
    "\n",
    "def flatten_data(item):\n",
    "    flattened_data = {\n",
    "        key: value for key, value in item.items() if key not in [\"visible_impression_info\"]\n",
    "    }\n",
    "    \n",
    "    visible_impression_info = item.get(\"visible_impression_info\", {}).get(\"amplitude\", {})\n",
    "\n",
    "    fields_to_extract = [\n",
    "        \"category_l1_name\",\n",
    "        \"category_l2_name\",\n",
    "        \"category_l3_name\",\n",
    "        \"seller_type\",\n",
    "        \"primary_category_name\",\n",
    "        \"is_imported\",\n",
    "    ]\n",
    "\n",
    "    flattened_data.update({field: visible_impression_info.get(field, None) for field in fields_to_extract})\n",
    "\n",
    "    return flattened_data\n",
    "\n",
    "def save_to_local(data, timestamp):\n",
    "    # Remove specified keys from all levels of the nested dictionary\n",
    "    keys_to_remove = ['impression_info', 'badges_new']\n",
    "    cleaned_data = remove_keys_recursive(data, keys_to_remove)\n",
    "\n",
    "    # Rename the \"quantity_sold\" field to \"quantity_sold_value\"\n",
    "    cleaned_data = [rename_quantity_sold(product) for product in cleaned_data]\n",
    "\n",
    "    # Flatten the nested structure\n",
    "    cleaned_data = [flatten_data(product) for product in cleaned_data]\n",
    "\n",
    "    # Convert the cleaned data to a Pandas DataFrame\n",
    "    pd_df = pd.DataFrame(cleaned_data)\n",
    "\n",
    "    # Convert timestamp to Unix time\n",
    "    unix_timestamp = int(datetime.timestamp(timestamp))\n",
    "\n",
    "    pd_df[\"ingestion_dt_unix\"] = unix_timestamp\n",
    "    pd_df.rename(columns={\"id\": \"tiki_pid\"}, inplace=True)\n",
    "    pd_df[\"ingestion_date\"] = pd.to_datetime(pd.to_datetime(pd_df[\"ingestion_dt_unix\"], unit='s').dt.date)\n",
    "\n",
    "    pd_df[\"quantity_sold_value\"] = pd_df[\"quantity_sold_value\"] + 4\n",
    "\n",
    "    # Specify local path for saving\n",
    "    local_path_csv = f'../data/raw_116532_{unix_timestamp}.csv'\n",
    "    local_path_parquet = f'../data/raw_116532_{unix_timestamp}.parquet'\n",
    "    \n",
    "    # Write the DataFrame to local CSV file\n",
    "    pd_df.to_csv(local_path_csv, index=False)\n",
    "\n",
    "    return pd_df\n",
    "\n",
    "# API request\n",
    "url = 'https://api.tiki.vn/seller-store/v2/collections/116532/products'\n",
    "params = {'limit': 100, 'cursor': 40}\n",
    "headers = {'x-source': 'local', 'Host': 'api.tiki.vn'}\n",
    "\n",
    "response = make_api_request(url, params, headers)\n",
    "\n",
    "if response.status_code == 200:\n",
    "    data = response.json()['data']\n",
    "\n",
    "    timestamp = datetime.now()\n",
    "\n",
    "    # Save to local files\n",
    "    cleaned_data_out = save_to_local(data, timestamp)\n",
    "else:\n",
    "    print(f\"Error: {response.status_code}\")\n",
    "    print(response.text)\n",
    "\n",
    "# Display the Pandas DataFrame\n",
    "print(cleaned_data_out.head(2))"
   ]
  },
  {
   "cell_type": "code",
   "execution_count": 1,
   "metadata": {},
   "outputs": [],
   "source": [
    "import sys\n",
    "#sys.path.insert(1, '..')"
   ]
  },
  {
   "cell_type": "code",
   "execution_count": 12,
   "metadata": {},
   "outputs": [
    {
     "ename": "NameError",
     "evalue": "name 'module_path' is not defined",
     "output_type": "error",
     "traceback": [
      "\u001b[0;31m---------------------------------------------------------------------------\u001b[0m",
      "\u001b[0;31mNameError\u001b[0m                                 Traceback (most recent call last)",
      "\u001b[0;32m/var/folders/94/jsbl_ycn61nbv3gfn29tq9v80000gn/T/ipykernel_38363/2739862346.py\u001b[0m in \u001b[0;36m<module>\u001b[0;34m\u001b[0m\n\u001b[0;32m----> 1\u001b[0;31m \u001b[0mmodule_path\u001b[0m\u001b[0;34m\u001b[0m\u001b[0;34m\u001b[0m\u001b[0m\n\u001b[0m",
      "\u001b[0;31mNameError\u001b[0m: name 'module_path' is not defined"
     ]
    }
   ],
   "source": [
    "module_path"
   ]
  },
  {
   "cell_type": "code",
   "execution_count": 2,
   "metadata": {},
   "outputs": [
    {
     "data": {
      "text/plain": [
       "['/Users/theanh/Documents/sch_tiki_etl/dim_product',\n",
       " '/Users/theanh/opt/anaconda3/lib/python39.zip',\n",
       " '/Users/theanh/opt/anaconda3/lib/python3.9',\n",
       " '/Users/theanh/opt/anaconda3/lib/python3.9/lib-dynload',\n",
       " '',\n",
       " '/Users/theanh/opt/anaconda3/lib/python3.9/site-packages',\n",
       " '/Users/theanh/opt/anaconda3/lib/python3.9/site-packages/aeosa',\n",
       " '/Users/theanh/opt/anaconda3/lib/python3.9/site-packages/browsermob_proxy-0.8.0-py3.9.egg',\n",
       " '/Users/theanh/opt/anaconda3/lib/python3.9/site-packages/IPython/extensions',\n",
       " '/Users/theanh/.ipython']"
      ]
     },
     "execution_count": 2,
     "metadata": {},
     "output_type": "execute_result"
    }
   ],
   "source": [
    "sys.path"
   ]
  },
  {
   "cell_type": "code",
   "execution_count": 21,
   "metadata": {},
   "outputs": [],
   "source": [
    "import os\n",
    "module_path = os.path.abspath(os.path.join('..'))\n",
    "\n",
    "if module_path not in sys.path:\n",
    "    sys.path.append(module_path+\"/my_utils\")\n",
    "#from util_minio import MinioHandler"
   ]
  },
  {
   "cell_type": "code",
   "execution_count": 4,
   "metadata": {},
   "outputs": [
    {
     "data": {
      "text/plain": [
       "'/Users/theanh/Documents/sch_tiki_etl'"
      ]
     },
     "execution_count": 4,
     "metadata": {},
     "output_type": "execute_result"
    }
   ],
   "source": [
    "module_path"
   ]
  },
  {
   "cell_type": "code",
   "execution_count": 17,
   "metadata": {},
   "outputs": [],
   "source": [
    "import util_minio\n",
    "#TypeError: deprecated() got an unexpected keyword argument 'name'\n",
    "#Fix: pip uninstall pyOpenSSL \n",
    "#https://stackoverflow.com/questions/74147284/i-cannot-run-pip-anymore\n",
    "\n",
    "minio_handler = util_minio.MinioHandler()\n",
    "#s3.Bucket('tiki').upload_file('./data/raw_116532_1710308519.csv', 'raw_116532_1710308519.csv')"
   ]
  },
  {
   "cell_type": "code",
   "execution_count": 20,
   "metadata": {},
   "outputs": [],
   "source": [
    "minio_handler.upload_file(\"tiki\", \"raw_116532_1710396371.csv\", \"../data/raw_116532_1710396371.csv\")"
   ]
  },
  {
   "cell_type": "code",
   "execution_count": null,
   "metadata": {},
   "outputs": [],
   "source": []
  }
 ],
 "metadata": {
  "kernelspec": {
   "display_name": "Python 3",
   "language": "python",
   "name": "python3"
  },
  "language_info": {
   "codemirror_mode": {
    "name": "ipython",
    "version": 3
   },
   "file_extension": ".py",
   "mimetype": "text/x-python",
   "name": "python",
   "nbconvert_exporter": "python",
   "pygments_lexer": "ipython3",
   "version": "3.9.13"
  },
  "orig_nbformat": 4
 },
 "nbformat": 4,
 "nbformat_minor": 2
}
