{
 "cells": [
  {
   "cell_type": "code",
   "execution_count": 1,
   "metadata": {},
   "outputs": [],
   "source": [
    "import pandas as pd\n",
    "from sqlalchemy import create_engine\n",
    "import pandas as pd"
   ]
  },
  {
   "cell_type": "code",
   "execution_count": 3,
   "metadata": {},
   "outputs": [
    {
     "data": {
      "text/html": [
       "<div>\n",
       "<style scoped>\n",
       "    .dataframe tbody tr th:only-of-type {\n",
       "        vertical-align: middle;\n",
       "    }\n",
       "\n",
       "    .dataframe tbody tr th {\n",
       "        vertical-align: top;\n",
       "    }\n",
       "\n",
       "    .dataframe thead th {\n",
       "        text-align: right;\n",
       "    }\n",
       "</style>\n",
       "<table border=\"1\" class=\"dataframe\">\n",
       "  <thead>\n",
       "    <tr style=\"text-align: right;\">\n",
       "      <th></th>\n",
       "      <th>tiki_pid</th>\n",
       "      <th>name</th>\n",
       "      <th>brand_name</th>\n",
       "      <th>origin</th>\n",
       "      <th>ingestion_dt_unix</th>\n",
       "    </tr>\n",
       "  </thead>\n",
       "  <tbody>\n",
       "    <tr>\n",
       "      <th>0</th>\n",
       "      <td>270851667</td>\n",
       "      <td>Mặt nạ giấy dưỡng da Hàn Quốc innisfree My Rea...</td>\n",
       "      <td>Innisfree</td>\n",
       "      <td>Hàn Quốc</td>\n",
       "      <td>1711993659</td>\n",
       "    </tr>\n",
       "    <tr>\n",
       "      <th>1</th>\n",
       "      <td>252608882</td>\n",
       "      <td>Tã/bỉm quần HUGGIES SKINCARE MEGA JUMBO size X...</td>\n",
       "      <td>Huggies</td>\n",
       "      <td>Việt Nam</td>\n",
       "      <td>1711993659</td>\n",
       "    </tr>\n",
       "  </tbody>\n",
       "</table>\n",
       "</div>"
      ],
      "text/plain": [
       "    tiki_pid                                               name brand_name  \\\n",
       "0  270851667  Mặt nạ giấy dưỡng da Hàn Quốc innisfree My Rea...  Innisfree   \n",
       "1  252608882  Tã/bỉm quần HUGGIES SKINCARE MEGA JUMBO size X...    Huggies   \n",
       "\n",
       "     origin  ingestion_dt_unix  \n",
       "0  Hàn Quốc         1711993659  \n",
       "1  Việt Nam         1711993659  "
      ]
     },
     "execution_count": 3,
     "metadata": {},
     "output_type": "execute_result"
    }
   ],
   "source": [
    "dict_storage_options = {'endpoint_url':'http://localhost:9000',\n",
    "                        'key':'minioadmin',\n",
    "                        'secret':12345678}\n",
    "\n",
    "# Change date to current date\n",
    "parquet_df = pd.read_parquet('s3://tiki/curated/dim_product/ingestion_date=2024-04-01', storage_options=dict_storage_options) \n",
    "parquet_df.head(2)"
   ]
  },
  {
   "cell_type": "code",
   "execution_count": 7,
   "metadata": {},
   "outputs": [
    {
     "name": "stdout",
     "output_type": "stream",
     "text": [
      "      tiki_pid                                               name brand_name  \\\n",
      "0    270851667  Mặt nạ giấy dưỡng da Hàn Quốc innisfree My Rea...  Innisfree   \n",
      "1    252608882  Tã/bỉm quần HUGGIES SKINCARE MEGA JUMBO size X...    Huggies   \n",
      "2    252608891  Tã/bỉm quần HUGGIES SKINCARE gói SUPER JUMBO s...    Huggies   \n",
      "3    210966404  Combo Sữa dưỡng thể Vaseline Gluta-Hya Dưỡng D...   Vaseline   \n",
      "4    203853390                    Điện Thoại Oppo A17k (3GB/64GB)       OPPO   \n",
      "..         ...                                                ...        ...   \n",
      "151    1453915  Ly Giữ Nhiệt Bằng Thép Không Gỉ Lock&Lock Clip...  LocknLock   \n",
      "152    1672157  Bao cao su Durex Invisible Extra Thin Extra Se...      Durex   \n",
      "153     897016  Combo Sân Chơi Trí Tuệ Của Chim Đa Đa (Bộ 6 Cuốn)       None   \n",
      "154     579962  Bộ Nồi 5 Đáy Cao Cấp Núm Vàng Sunhouse SH781 Q...   Sunhouse   \n",
      "155     414764  Lò Vi Sóng Sharp R-205VN(S) - 20L - Hàng chính...      Sharp   \n",
      "\n",
      "         origin  ingestion_dt_unix  \n",
      "0      Hàn Quốc         1711993659  \n",
      "1      Việt Nam         1711993659  \n",
      "2      Việt Nam         1711993659  \n",
      "3      Thái Lan         1711993659  \n",
      "4    Trung Quốc         1711993659  \n",
      "..          ...                ...  \n",
      "151  Trung Quốc         1711993659  \n",
      "152  Trung Quốc         1711993659  \n",
      "153        None         1711993659  \n",
      "154    Việt Nam         1711993659  \n",
      "155  Trung Quốc         1711993659  \n",
      "\n",
      "[156 rows x 5 columns]\n"
     ]
    }
   ],
   "source": [
    "\n",
    "# Find the row with the maximum 'ingestion_dt_unix'\n",
    "latest_row = parquet_df.loc[parquet_df['ingestion_dt_unix'].idxmax()]\n",
    "\n",
    "# Filter DataFrame to get the latest data\n",
    "latest_parquet = parquet_df[parquet_df['ingestion_dt_unix'] == latest_row['ingestion_dt_unix']]\n",
    "\n",
    "# Define PostgreSQL connection parameters\n",
    "postgres_username = 'my_user'\n",
    "postgres_password = 'my_password'\n",
    "postgres_host = 'localhost'\n",
    "postgres_port = '35432'\n",
    "postgres_db = 'dw_tiki'\n",
    "\n",
    "# Create SQLAlchemy engine\n",
    "engine = create_engine(f'postgresql://{postgres_username}:{postgres_password}@{postgres_host}:{postgres_port}/{postgres_db}')\n",
    "\n",
    "# Define the table name\n",
    "table_name = 'dim_product'\n",
    "\n",
    "# Write the latest data to PostgreSQL\n",
    "latest_parquet.to_sql(table_name, engine, if_exists='replace', index=False)\n",
    "\n",
    "# Display the latest data\n",
    "print(latest_parquet)\n"
   ]
  }
 ],
 "metadata": {
  "kernelspec": {
   "display_name": "Python 3",
   "language": "python",
   "name": "python3"
  },
  "language_info": {
   "codemirror_mode": {
    "name": "ipython",
    "version": 3
   },
   "file_extension": ".py",
   "mimetype": "text/x-python",
   "name": "python",
   "nbconvert_exporter": "python",
   "pygments_lexer": "ipython3",
   "version": "3.9.13"
  },
  "orig_nbformat": 4
 },
 "nbformat": 4,
 "nbformat_minor": 2
}
