{
 "cells": [
  {
   "cell_type": "code",
   "execution_count": 4,
   "metadata": {},
   "outputs": [],
   "source": []
  },
  {
   "cell_type": "code",
   "execution_count": 2,
   "metadata": {},
   "outputs": [
    {
     "data": {
      "text/html": [
       "<div>\n",
       "<style scoped>\n",
       "    .dataframe tbody tr th:only-of-type {\n",
       "        vertical-align: middle;\n",
       "    }\n",
       "\n",
       "    .dataframe tbody tr th {\n",
       "        vertical-align: top;\n",
       "    }\n",
       "\n",
       "    .dataframe thead th {\n",
       "        text-align: right;\n",
       "    }\n",
       "</style>\n",
       "<table border=\"1\" class=\"dataframe\">\n",
       "  <thead>\n",
       "    <tr style=\"text-align: right;\">\n",
       "      <th></th>\n",
       "      <th>tiki_pid</th>\n",
       "      <th>name</th>\n",
       "      <th>brand_name</th>\n",
       "      <th>origin</th>\n",
       "      <th>ingestion_date</th>\n",
       "    </tr>\n",
       "  </thead>\n",
       "  <tbody>\n",
       "    <tr>\n",
       "      <th>0</th>\n",
       "      <td>548888</td>\n",
       "      <td>Combo 4 Hũ Thủy Tinh Quattro Bormioli Rocco QS7</td>\n",
       "      <td>Bormioli Rocco</td>\n",
       "      <td>Ý</td>\n",
       "      <td>2024-03-14</td>\n",
       "    </tr>\n",
       "    <tr>\n",
       "      <th>1</th>\n",
       "      <td>273532024</td>\n",
       "      <td>[Combo 3 lon còn 1tr550] Sữa Bột Nutifood Grow...</td>\n",
       "      <td>NutiFood</td>\n",
       "      <td>Việt Nam</td>\n",
       "      <td>2024-03-14</td>\n",
       "    </tr>\n",
       "  </tbody>\n",
       "</table>\n",
       "</div>"
      ],
      "text/plain": [
       "    tiki_pid                                               name  \\\n",
       "0     548888    Combo 4 Hũ Thủy Tinh Quattro Bormioli Rocco QS7   \n",
       "1  273532024  [Combo 3 lon còn 1tr550] Sữa Bột Nutifood Grow...   \n",
       "\n",
       "       brand_name    origin ingestion_date  \n",
       "0  Bormioli Rocco         Ý     2024-03-14  \n",
       "1        NutiFood  Việt Nam     2024-03-14  "
      ]
     },
     "execution_count": 2,
     "metadata": {},
     "output_type": "execute_result"
    }
   ],
   "source": [
    "cols_dim_product = [\"tiki_pid\",\"name\",\"brand_name\",\"origin\",'ingestion_date']\n",
    "df_dim_product = df[cols_dim_product]\n",
    "df_dim_product.head(2)\n"
   ]
  },
  {
   "cell_type": "code",
   "execution_count": null,
   "metadata": {},
   "outputs": [],
   "source": [
    "anon=False, endpoint_url=endpoint_url,\n",
    "                 key=key,\n",
    "                 secret=secret,\n",
    "                 use_ssl=False"
   ]
  },
  {
   "cell_type": "code",
   "execution_count": 12,
   "metadata": {},
   "outputs": [],
   "source": [
    "dict_storage_options = {#\"anon\": True,\n",
    "                        'endpoint_url':'http://localhost:9000',\n",
    "                        'key':'minioadmin',\n",
    "                        'secret':12345678}\n",
    "\n",
    "df_dim_product.to_parquet('s3://tiki/uaj.parquet',storage_options=dict_storage_options)"
   ]
  },
  {
   "cell_type": "code",
   "execution_count": null,
   "metadata": {},
   "outputs": [],
   "source": []
  }
 ],
 "metadata": {
  "kernelspec": {
   "display_name": "Python 3",
   "language": "python",
   "name": "python3"
  },
  "language_info": {
   "codemirror_mode": {
    "name": "ipython",
    "version": 3
   },
   "file_extension": ".py",
   "mimetype": "text/x-python",
   "name": "python",
   "nbconvert_exporter": "python",
   "pygments_lexer": "ipython3",
   "version": "3.9.6"
  },
  "orig_nbformat": 4
 },
 "nbformat": 4,
 "nbformat_minor": 2
}
