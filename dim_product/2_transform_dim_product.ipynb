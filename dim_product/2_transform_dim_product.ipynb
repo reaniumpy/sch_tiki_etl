{
 "cells": [
  {
   "cell_type": "code",
   "execution_count": 1,
   "metadata": {},
   "outputs": [
    {
     "data": {
      "text/html": [
       "<div>\n",
       "<style scoped>\n",
       "    .dataframe tbody tr th:only-of-type {\n",
       "        vertical-align: middle;\n",
       "    }\n",
       "\n",
       "    .dataframe tbody tr th {\n",
       "        vertical-align: top;\n",
       "    }\n",
       "\n",
       "    .dataframe thead th {\n",
       "        text-align: right;\n",
       "    }\n",
       "</style>\n",
       "<table border=\"1\" class=\"dataframe\">\n",
       "  <thead>\n",
       "    <tr style=\"text-align: right;\">\n",
       "      <th></th>\n",
       "      <th>tiki_pid</th>\n",
       "      <th>sku</th>\n",
       "      <th>name</th>\n",
       "      <th>url_key</th>\n",
       "      <th>url_path</th>\n",
       "      <th>price</th>\n",
       "      <th>discount</th>\n",
       "      <th>discount_rate</th>\n",
       "      <th>rating_average</th>\n",
       "      <th>review_count</th>\n",
       "      <th>...</th>\n",
       "      <th>seller_type</th>\n",
       "      <th>is_imported</th>\n",
       "      <th>video_url</th>\n",
       "      <th>fastest_delivery_time</th>\n",
       "      <th>earliest_delivery_estimate</th>\n",
       "      <th>order_route</th>\n",
       "      <th>layout_type</th>\n",
       "      <th>imported</th>\n",
       "      <th>ingestion_dt_unix</th>\n",
       "      <th>ingestion_date</th>\n",
       "    </tr>\n",
       "  </thead>\n",
       "  <tbody>\n",
       "    <tr>\n",
       "      <th>0</th>\n",
       "      <td>252608882</td>\n",
       "      <td>4825599512084</td>\n",
       "      <td>Tã/bỉm quần HUGGIES SKINCARE MEGA JUMBO size X...</td>\n",
       "      <td>thung-ta-bim-quan-huggies-skincare-mega-jumbo-...</td>\n",
       "      <td>thung-ta-bim-quan-huggies-skincare-mega-jumbo-...</td>\n",
       "      <td>365000</td>\n",
       "      <td>280750</td>\n",
       "      <td>43</td>\n",
       "      <td>4.8</td>\n",
       "      <td>329</td>\n",
       "      <td>...</td>\n",
       "      <td>OFFICIAL_STORE</td>\n",
       "      <td>False</td>\n",
       "      <td>NaN</td>\n",
       "      <td>NaN</td>\n",
       "      <td>NaN</td>\n",
       "      <td>NaN</td>\n",
       "      <td>NaN</td>\n",
       "      <td>NaN</td>\n",
       "      <td>1712117838</td>\n",
       "      <td>2024-04-03</td>\n",
       "    </tr>\n",
       "    <tr>\n",
       "      <th>1</th>\n",
       "      <td>252608891</td>\n",
       "      <td>1033225203769</td>\n",
       "      <td>Tã/bỉm quần HUGGIES SKINCARE gói SUPER JUMBO s...</td>\n",
       "      <td>ta-bim-quan-huggies-skincare-goi-super-jumbo-s...</td>\n",
       "      <td>ta-bim-quan-huggies-skincare-goi-super-jumbo-s...</td>\n",
       "      <td>289000</td>\n",
       "      <td>184130</td>\n",
       "      <td>39</td>\n",
       "      <td>5.0</td>\n",
       "      <td>169</td>\n",
       "      <td>...</td>\n",
       "      <td>OFFICIAL_STORE</td>\n",
       "      <td>False</td>\n",
       "      <td>NaN</td>\n",
       "      <td>NaN</td>\n",
       "      <td>NaN</td>\n",
       "      <td>NaN</td>\n",
       "      <td>NaN</td>\n",
       "      <td>NaN</td>\n",
       "      <td>1712117838</td>\n",
       "      <td>2024-04-03</td>\n",
       "    </tr>\n",
       "  </tbody>\n",
       "</table>\n",
       "<p>2 rows × 49 columns</p>\n",
       "</div>"
      ],
      "text/plain": [
       "    tiki_pid            sku  \\\n",
       "0  252608882  4825599512084   \n",
       "1  252608891  1033225203769   \n",
       "\n",
       "                                                name  \\\n",
       "0  Tã/bỉm quần HUGGIES SKINCARE MEGA JUMBO size X...   \n",
       "1  Tã/bỉm quần HUGGIES SKINCARE gói SUPER JUMBO s...   \n",
       "\n",
       "                                             url_key  \\\n",
       "0  thung-ta-bim-quan-huggies-skincare-mega-jumbo-...   \n",
       "1  ta-bim-quan-huggies-skincare-goi-super-jumbo-s...   \n",
       "\n",
       "                                            url_path   price  discount  \\\n",
       "0  thung-ta-bim-quan-huggies-skincare-mega-jumbo-...  365000    280750   \n",
       "1  ta-bim-quan-huggies-skincare-goi-super-jumbo-s...  289000    184130   \n",
       "\n",
       "   discount_rate  rating_average  review_count  ...     seller_type  \\\n",
       "0             43             4.8           329  ...  OFFICIAL_STORE   \n",
       "1             39             5.0           169  ...  OFFICIAL_STORE   \n",
       "\n",
       "   is_imported  video_url  fastest_delivery_time  earliest_delivery_estimate  \\\n",
       "0        False        NaN                    NaN                         NaN   \n",
       "1        False        NaN                    NaN                         NaN   \n",
       "\n",
       "   order_route  layout_type imported  ingestion_dt_unix ingestion_date  \n",
       "0          NaN          NaN      NaN         1712117838     2024-04-03  \n",
       "1          NaN          NaN      NaN         1712117838     2024-04-03  \n",
       "\n",
       "[2 rows x 49 columns]"
      ]
     },
     "execution_count": 1,
     "metadata": {},
     "output_type": "execute_result"
    }
   ],
   "source": [
    "import os\n",
    "import sys\n",
    "module_path = os.path.abspath(os.path.join('..'))\n",
    "\n",
    "if module_path not in sys.path:\n",
    "    sys.path.append(module_path+\"/my_utils\")\n",
    "#from util_minio import MinioHandler\n",
    "    \n",
    "from util_minio import MinioHandler\n",
    "minio_handle = MinioHandler()\n",
    "df = minio_handle.download_to_dataframe('tiki','raw/raw_116532_1711993659.csv')\n",
    "df.head(2)"
   ]
  },
  {
   "cell_type": "code",
   "execution_count": 2,
   "metadata": {},
   "outputs": [
    {
     "data": {
      "text/html": [
       "<div>\n",
       "<style scoped>\n",
       "    .dataframe tbody tr th:only-of-type {\n",
       "        vertical-align: middle;\n",
       "    }\n",
       "\n",
       "    .dataframe tbody tr th {\n",
       "        vertical-align: top;\n",
       "    }\n",
       "\n",
       "    .dataframe thead th {\n",
       "        text-align: right;\n",
       "    }\n",
       "</style>\n",
       "<table border=\"1\" class=\"dataframe\">\n",
       "  <thead>\n",
       "    <tr style=\"text-align: right;\">\n",
       "      <th></th>\n",
       "      <th>tiki_pid</th>\n",
       "      <th>name</th>\n",
       "      <th>brand_name</th>\n",
       "      <th>origin</th>\n",
       "      <th>ingestion_date</th>\n",
       "      <th>ingestion_dt_unix</th>\n",
       "    </tr>\n",
       "  </thead>\n",
       "  <tbody>\n",
       "    <tr>\n",
       "      <th>0</th>\n",
       "      <td>252608882</td>\n",
       "      <td>Tã/bỉm quần HUGGIES SKINCARE MEGA JUMBO size X...</td>\n",
       "      <td>Huggies</td>\n",
       "      <td>Việt Nam</td>\n",
       "      <td>2024-04-03</td>\n",
       "      <td>1712117838</td>\n",
       "    </tr>\n",
       "    <tr>\n",
       "      <th>1</th>\n",
       "      <td>252608891</td>\n",
       "      <td>Tã/bỉm quần HUGGIES SKINCARE gói SUPER JUMBO s...</td>\n",
       "      <td>Huggies</td>\n",
       "      <td>Việt Nam</td>\n",
       "      <td>2024-04-03</td>\n",
       "      <td>1712117838</td>\n",
       "    </tr>\n",
       "  </tbody>\n",
       "</table>\n",
       "</div>"
      ],
      "text/plain": [
       "    tiki_pid                                               name brand_name  \\\n",
       "0  252608882  Tã/bỉm quần HUGGIES SKINCARE MEGA JUMBO size X...    Huggies   \n",
       "1  252608891  Tã/bỉm quần HUGGIES SKINCARE gói SUPER JUMBO s...    Huggies   \n",
       "\n",
       "     origin ingestion_date  ingestion_dt_unix  \n",
       "0  Việt Nam     2024-04-03         1712117838  \n",
       "1  Việt Nam     2024-04-03         1712117838  "
      ]
     },
     "execution_count": 2,
     "metadata": {},
     "output_type": "execute_result"
    }
   ],
   "source": [
    "cols_dim_product = [\"tiki_pid\",\"name\",\"brand_name\",\"origin\",'ingestion_date','ingestion_dt_unix']\n",
    "df_dim_product = df[cols_dim_product]\n",
    "df_dim_product.head(2)\n"
   ]
  },
  {
   "cell_type": "code",
   "execution_count": 3,
   "metadata": {},
   "outputs": [],
   "source": [
    "dict_storage_options = {'endpoint_url':'http://localhost:9000',\n",
    "                        'key':'minioadmin',\n",
    "                        'secret':12345678}\n",
    "\n",
    "df_dim_product.to_parquet('s3://tiki/curated/dim_product',storage_options=dict_storage_options,partition_cols=['ingestion_date'])"
   ]
  },
  {
   "cell_type": "code",
   "execution_count": 4,
   "metadata": {},
   "outputs": [],
   "source": [
    "import s3fs"
   ]
  },
  {
   "cell_type": "code",
   "execution_count": 5,
   "metadata": {},
   "outputs": [
    {
     "data": {
      "text/plain": [
       "'2024.3.1'"
      ]
     },
     "execution_count": 5,
     "metadata": {},
     "output_type": "execute_result"
    }
   ],
   "source": [
    "s3fs.__version__"
   ]
  },
  {
   "cell_type": "code",
   "execution_count": 6,
   "metadata": {},
   "outputs": [
    {
     "name": "stdout",
     "output_type": "stream",
     "text": [
      "Defaulting to user installation because normal site-packages is not writeable\n",
      "Requirement already satisfied: s3fs==2024.3.1 in /Users/ta/Library/Python/3.9/lib/python/site-packages (2024.3.1)\n",
      "Requirement already satisfied: fsspec==2024.3.1 in /Users/ta/Library/Python/3.9/lib/python/site-packages (from s3fs==2024.3.1) (2024.3.1)\n",
      "Requirement already satisfied: aiobotocore<3.0.0,>=2.5.4 in /Users/ta/Library/Python/3.9/lib/python/site-packages (from s3fs==2024.3.1) (2.12.2)\n",
      "Requirement already satisfied: aiohttp!=4.0.0a0,!=4.0.0a1 in /Users/ta/Library/Python/3.9/lib/python/site-packages (from s3fs==2024.3.1) (3.9.3)\n",
      "Requirement already satisfied: aioitertools<1.0.0,>=0.5.1 in /Users/ta/Library/Python/3.9/lib/python/site-packages (from aiobotocore<3.0.0,>=2.5.4->s3fs==2024.3.1) (0.11.0)\n",
      "Requirement already satisfied: wrapt<2.0.0,>=1.10.10 in /Users/ta/Library/Python/3.9/lib/python/site-packages (from aiobotocore<3.0.0,>=2.5.4->s3fs==2024.3.1) (1.16.0)\n",
      "Requirement already satisfied: botocore<1.34.52,>=1.34.41 in /Users/ta/Library/Python/3.9/lib/python/site-packages (from aiobotocore<3.0.0,>=2.5.4->s3fs==2024.3.1) (1.34.51)\n",
      "Requirement already satisfied: aiosignal>=1.1.2 in /Users/ta/Library/Python/3.9/lib/python/site-packages (from aiohttp!=4.0.0a0,!=4.0.0a1->s3fs==2024.3.1) (1.3.1)\n",
      "Requirement already satisfied: yarl<2.0,>=1.0 in /Users/ta/Library/Python/3.9/lib/python/site-packages (from aiohttp!=4.0.0a0,!=4.0.0a1->s3fs==2024.3.1) (1.9.4)\n",
      "Requirement already satisfied: frozenlist>=1.1.1 in /Users/ta/Library/Python/3.9/lib/python/site-packages (from aiohttp!=4.0.0a0,!=4.0.0a1->s3fs==2024.3.1) (1.4.1)\n",
      "Requirement already satisfied: async-timeout<5.0,>=4.0 in /Users/ta/Library/Python/3.9/lib/python/site-packages (from aiohttp!=4.0.0a0,!=4.0.0a1->s3fs==2024.3.1) (4.0.3)\n",
      "Requirement already satisfied: multidict<7.0,>=4.5 in /Users/ta/Library/Python/3.9/lib/python/site-packages (from aiohttp!=4.0.0a0,!=4.0.0a1->s3fs==2024.3.1) (6.0.5)\n",
      "Requirement already satisfied: attrs>=17.3.0 in /Users/ta/Library/Python/3.9/lib/python/site-packages (from aiohttp!=4.0.0a0,!=4.0.0a1->s3fs==2024.3.1) (23.2.0)\n",
      "Requirement already satisfied: typing_extensions>=4.0 in /Users/ta/Library/Python/3.9/lib/python/site-packages (from aioitertools<1.0.0,>=0.5.1->aiobotocore<3.0.0,>=2.5.4->s3fs==2024.3.1) (4.6.3)\n",
      "Requirement already satisfied: jmespath<2.0.0,>=0.7.1 in /Users/ta/Library/Python/3.9/lib/python/site-packages (from botocore<1.34.52,>=1.34.41->aiobotocore<3.0.0,>=2.5.4->s3fs==2024.3.1) (1.0.1)\n",
      "Requirement already satisfied: urllib3<1.27,>=1.25.4 in /Users/ta/Library/Python/3.9/lib/python/site-packages (from botocore<1.34.52,>=1.34.41->aiobotocore<3.0.0,>=2.5.4->s3fs==2024.3.1) (1.26.18)\n",
      "Requirement already satisfied: python-dateutil<3.0.0,>=2.1 in /Users/ta/Library/Python/3.9/lib/python/site-packages (from botocore<1.34.52,>=1.34.41->aiobotocore<3.0.0,>=2.5.4->s3fs==2024.3.1) (2.8.2)\n",
      "Requirement already satisfied: six>=1.5 in /Library/Developer/CommandLineTools/Library/Frameworks/Python3.framework/Versions/3.9/lib/python3.9/site-packages (from python-dateutil<3.0.0,>=2.1->botocore<1.34.52,>=1.34.41->aiobotocore<3.0.0,>=2.5.4->s3fs==2024.3.1) (1.15.0)\n",
      "Requirement already satisfied: idna>=2.0 in /Users/ta/Library/Python/3.9/lib/python/site-packages (from yarl<2.0,>=1.0->aiohttp!=4.0.0a0,!=4.0.0a1->s3fs==2024.3.1) (3.4)\n",
      "\u001b[33mWARNING: You are using pip version 21.2.4; however, version 24.0 is available.\n",
      "You should consider upgrading via the '/Library/Developer/CommandLineTools/usr/bin/python3 -m pip install --upgrade pip' command.\u001b[0m\n",
      "Note: you may need to restart the kernel to use updated packages.\n"
     ]
    }
   ],
   "source": [
    "pip install s3fs==2024.3.1"
   ]
  },
  {
   "cell_type": "code",
   "execution_count": null,
   "metadata": {},
   "outputs": [],
   "source": []
  }
 ],
 "metadata": {
  "kernelspec": {
   "display_name": "Python 3",
   "language": "python",
   "name": "python3"
  },
  "language_info": {
   "codemirror_mode": {
    "name": "ipython",
    "version": 3
   },
   "file_extension": ".py",
   "mimetype": "text/x-python",
   "name": "python",
   "nbconvert_exporter": "python",
   "pygments_lexer": "ipython3",
   "version": "3.9.6"
  },
  "orig_nbformat": 4
 },
 "nbformat": 4,
 "nbformat_minor": 2
}
