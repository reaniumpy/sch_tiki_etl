{
 "cells": [
  {
   "cell_type": "code",
   "execution_count": null,
   "metadata": {},
   "outputs": [],
   "source": [
    "# Define the table name\n",
    "table_name = 'dim_product'\n",
    "parquet_path = 's3://tiki/curated/dim_product/ingestion_date=2024-05-18'"
   ]
  },
  {
   "cell_type": "code",
   "execution_count": 1,
   "metadata": {},
   "outputs": [],
   "source": [
    "import pandas as pd\n",
    "from sqlalchemy import create_engine\n",
    "import pandas as pd"
   ]
  },
  {
   "cell_type": "code",
   "execution_count": 2,
   "metadata": {},
   "outputs": [
    {
     "data": {
      "text/html": [
       "<div>\n",
       "<style scoped>\n",
       "    .dataframe tbody tr th:only-of-type {\n",
       "        vertical-align: middle;\n",
       "    }\n",
       "\n",
       "    .dataframe tbody tr th {\n",
       "        vertical-align: top;\n",
       "    }\n",
       "\n",
       "    .dataframe thead th {\n",
       "        text-align: right;\n",
       "    }\n",
       "</style>\n",
       "<table border=\"1\" class=\"dataframe\">\n",
       "  <thead>\n",
       "    <tr style=\"text-align: right;\">\n",
       "      <th></th>\n",
       "      <th>tiki_pid</th>\n",
       "      <th>name</th>\n",
       "      <th>brand_name</th>\n",
       "      <th>origin</th>\n",
       "      <th>ingestion_dt_unix</th>\n",
       "    </tr>\n",
       "  </thead>\n",
       "  <tbody>\n",
       "    <tr>\n",
       "      <th>0</th>\n",
       "      <td>200629270</td>\n",
       "      <td>[Tặng Bộ 3 ly thủy tinh cao cấp NESCAFE] Combo...</td>\n",
       "      <td>NESCAFÉ</td>\n",
       "      <td>Việt Nam</td>\n",
       "      <td>1716026146</td>\n",
       "    </tr>\n",
       "    <tr>\n",
       "      <th>1</th>\n",
       "      <td>195357772</td>\n",
       "      <td>Máy Tính CASIO FX-880BTG - Màu Đen</td>\n",
       "      <td>Casio</td>\n",
       "      <td>Thái Lan</td>\n",
       "      <td>1716026146</td>\n",
       "    </tr>\n",
       "  </tbody>\n",
       "</table>\n",
       "</div>"
      ],
      "text/plain": [
       "    tiki_pid                                               name brand_name  \\\n",
       "0  200629270  [Tặng Bộ 3 ly thủy tinh cao cấp NESCAFE] Combo...    NESCAFÉ   \n",
       "1  195357772                 Máy Tính CASIO FX-880BTG - Màu Đen      Casio   \n",
       "\n",
       "     origin  ingestion_dt_unix  \n",
       "0  Việt Nam         1716026146  \n",
       "1  Thái Lan         1716026146  "
      ]
     },
     "execution_count": 2,
     "metadata": {},
     "output_type": "execute_result"
    }
   ],
   "source": [
    "dict_storage_options = {'endpoint_url':'http://localhost:9000',\n",
    "                        'key':'minioadmin',\n",
    "                        'secret':12345678}\n",
    "\n",
    "# Change date to current date\n",
    "parquet_df = pd.read_parquet(parquet_path, storage_options=dict_storage_options) \n",
    "parquet_df.head(2)"
   ]
  },
  {
   "cell_type": "code",
   "execution_count": 3,
   "metadata": {},
   "outputs": [
    {
     "name": "stdout",
     "output_type": "stream",
     "text": [
      "      tiki_pid                                               name brand_name  \\\n",
      "0    200629270  [Tặng Bộ 3 ly thủy tinh cao cấp NESCAFE] Combo...    NESCAFÉ   \n",
      "1    195357772                 Máy Tính CASIO FX-880BTG - Màu Đen      Casio   \n",
      "2    195109412  Bộ nồi Inox dập nguyên khối Elmich Trimax Clas...     Elmich   \n",
      "3    193570411  Nồi áp suất Elmich PCE-1805 dung tích 2.5L - H...     Elmich   \n",
      "4    186118365  Sữa bột Vinamilk Dielac Alpha Gold 2 800g (cho...   Vinamilk   \n",
      "..         ...                                                ...        ...   \n",
      "124    1453915  Ly Giữ Nhiệt Bằng Thép Không Gỉ Lock&Lock Clip...  LocknLock   \n",
      "125    1672157  Bao cao su Durex Invisible Extra Thin Extra Se...      Durex   \n",
      "126     897016  Combo Sân Chơi Trí Tuệ Của Chim Đa Đa (Bộ 6 Cuốn)       None   \n",
      "127     579962  Bộ Nồi 5 Đáy Cao Cấp Núm Vàng Sunhouse SH781 Q...   Sunhouse   \n",
      "128     414764  Lò Vi Sóng Sharp R-205VN(S) - 20L - Hàng chính...      Sharp   \n",
      "\n",
      "         origin  ingestion_dt_unix  \n",
      "0      Việt Nam         1716026146  \n",
      "1      Thái Lan         1716026146  \n",
      "2    Trung Quốc         1716026146  \n",
      "3    Trung Quốc         1716026146  \n",
      "4      Việt Nam         1716026146  \n",
      "..          ...                ...  \n",
      "124  Trung Quốc         1716026146  \n",
      "125  Trung Quốc         1716026146  \n",
      "126        None         1716026146  \n",
      "127    Việt Nam         1716026146  \n",
      "128  Trung Quốc         1716026146  \n",
      "\n",
      "[129 rows x 5 columns]\n"
     ]
    }
   ],
   "source": [
    "\n",
    "# Find the row with the maximum 'ingestion_dt_unix'\n",
    "latest_row = parquet_df.loc[parquet_df['ingestion_dt_unix'].idxmax()]\n",
    "\n",
    "# Filter DataFrame to get the latest data\n",
    "df_latest_parquet = parquet_df[parquet_df['ingestion_dt_unix'] == latest_row['ingestion_dt_unix']]\n",
    "\n",
    "# Define PostgreSQL connection parameters\n",
    "postgres_username = 'my_user'\n",
    "postgres_password = 'my_password'\n",
    "postgres_host = 'localhost'\n",
    "postgres_port = '35432'\n",
    "postgres_db = 'dw_tiki'\n",
    "\n",
    "# Create SQLAlchemy engine\n",
    "engine = create_engine(f'postgresql://{postgres_username}:{postgres_password}@{postgres_host}:{postgres_port}/{postgres_db}')\n",
    "\n",
    "# Write the latest data to PostgreSQL\n",
    "df_latest_parquet.to_sql(table_name, engine, if_exists='replace', index=False)\n",
    "\n",
    "# Display the latest data\n",
    "print(df_latest_parquet)\n"
   ]
  }
 ],
 "metadata": {
  "kernelspec": {
   "display_name": "Python 3",
   "language": "python",
   "name": "python3"
  },
  "language_info": {
   "codemirror_mode": {
    "name": "ipython",
    "version": 3
   },
   "file_extension": ".py",
   "mimetype": "text/x-python",
   "name": "python",
   "nbconvert_exporter": "python",
   "pygments_lexer": "ipython3",
   "version": "3.9.13"
  },
  "orig_nbformat": 4
 },
 "nbformat": 4,
 "nbformat_minor": 2
}
