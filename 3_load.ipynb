{
 "cells": [
  {
   "cell_type": "code",
   "execution_count": null,
   "metadata": {},
   "outputs": [],
   "source": [
    "import pandas as pd\n",
    "from sqlalchemy import create_engine\n",
    "\n",
    "# Replace this with your actual local file path\n",
    "parquet_path = \"/path/to/your/parquet/files/\"\n",
    "output_path = './data/fact'\n",
    "target_date = pd.to_datetime('2024-03-14')\n",
    "\n",
    "# Read Parquet files into a DataFrame\n",
    "parquet_df = pd.read_parquet(f'{output_path}/ingestion_date={target_date.strftime(\"%Y-%m-%d\")}')\n",
    "\n",
    "# Find the row with the maximum 'ingestion_dt_unix'\n",
    "latest_row = parquet_df.loc[parquet_df['ingestion_dt_unix'].idxmax()]\n",
    "\n",
    "# Filter DataFrame to get the latest data\n",
    "latest_parquet = parquet_df[parquet_df['ingestion_dt_unix'] == latest_row['ingestion_dt_unix']]\n",
    "\n",
    "# Define PostgreSQL connection parameters\n",
    "postgres_username = 'my_user'\n",
    "postgres_password = 'my_password'\n",
    "postgres_host = 'localhost'\n",
    "postgres_port = '35432'\n",
    "postgres_db = 'dw_tiki'\n",
    "\n",
    "# Create SQLAlchemy engine\n",
    "engine = create_engine(f'postgresql://{postgres_username}:{postgres_password}@{postgres_host}:{postgres_port}/{postgres_db}')\n",
    "\n",
    "# Define the table name\n",
    "table_name = 'raw_sales'\n",
    "\n",
    "# Write the latest data to PostgreSQL\n",
    "latest_parquet.to_sql(table_name, engine, if_exists='replace', index=False)\n",
    "\n",
    "# Display the latest data\n",
    "print(latest_parquet)\n"
   ]
  }
 ],
 "metadata": {
  "language_info": {
   "name": "python"
  },
  "orig_nbformat": 4
 },
 "nbformat": 4,
 "nbformat_minor": 2
}
