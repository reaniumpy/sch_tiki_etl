{
 "cells": [
  {
   "cell_type": "code",
   "execution_count": 1,
   "metadata": {},
   "outputs": [
    {
     "name": "stdout",
     "output_type": "stream",
     "text": [
      "   DateKey  DateValue  Year  Month MonthName  Day  DayOfWeek DayOfWeekName  \\\n",
      "0        1 2020-01-01  2020      1   January    1          2     Wednesday   \n",
      "1        2 2020-01-02  2020      1   January    2          3      Thursday   \n",
      "2        3 2020-01-03  2020      1   January    3          4        Friday   \n",
      "3        4 2020-01-04  2020      1   January    4          5      Saturday   \n",
      "4        5 2020-01-05  2020      1   January    5          6        Sunday   \n",
      "\n",
      "   Quarter  \n",
      "0        1  \n",
      "1        1  \n",
      "2        1  \n",
      "3        1  \n",
      "4        1  \n"
     ]
    }
   ],
   "source": [
    "import pandas as pd\n",
    "\n",
    "# Define the start and end dates for the date range\n",
    "start_date = '2020-01-01'\n",
    "end_date = '2025-12-31'\n",
    "\n",
    "# Generate the date range using pandas\n",
    "date_range = pd.date_range(start=start_date, end=end_date)\n",
    "\n",
    "# Create a DataFrame to store the dim date table\n",
    "dim_date_df = pd.DataFrame(date_range, columns=['DateValue'])\n",
    "\n",
    "# Extract various date components\n",
    "dim_date_df['Year'] = dim_date_df['DateValue'].dt.year\n",
    "dim_date_df['Month'] = dim_date_df['DateValue'].dt.month\n",
    "dim_date_df['MonthName'] = dim_date_df['DateValue'].dt.strftime('%B')\n",
    "dim_date_df['Day'] = dim_date_df['DateValue'].dt.day\n",
    "dim_date_df['DayOfWeek'] = dim_date_df['DateValue'].dt.dayofweek\n",
    "dim_date_df['DayOfWeekName'] = dim_date_df['DateValue'].dt.strftime('%A')\n",
    "dim_date_df['Quarter'] = dim_date_df['DateValue'].dt.quarter\n",
    "\n",
    "# Add a DateKey column as a unique identifier\n",
    "dim_date_df['DateKey'] = range(1, len(dim_date_df) + 1)\n",
    "\n",
    "# Reorder the columns\n",
    "dim_date_df = dim_date_df[['DateKey', 'DateValue', 'Year', 'Month', 'MonthName', 'Day', 'DayOfWeek', 'DayOfWeekName', 'Quarter']]\n",
    "\n",
    "# Display the first few rows of the dim date table\n",
    "print(dim_date_df.head())"
   ]
  },
  {
   "cell_type": "code",
   "execution_count": null,
   "metadata": {},
   "outputs": [],
   "source": []
  }
 ],
 "metadata": {
  "kernelspec": {
   "display_name": "Python 3",
   "language": "python",
   "name": "python3"
  },
  "language_info": {
   "codemirror_mode": {
    "name": "ipython",
    "version": 3
   },
   "file_extension": ".py",
   "mimetype": "text/x-python",
   "name": "python",
   "nbconvert_exporter": "python",
   "pygments_lexer": "ipython3",
   "version": "3.9.13"
  }
 },
 "nbformat": 4,
 "nbformat_minor": 2
}
